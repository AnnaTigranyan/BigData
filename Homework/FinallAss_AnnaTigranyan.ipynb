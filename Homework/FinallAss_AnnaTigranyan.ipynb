{
 "cells": [
  {
   "cell_type": "markdown",
   "metadata": {
    "id": "nE21MjiLOJkz"
   },
   "source": [
    " # **Final Assignment**\n",
    "\n",
    "**Anna Tigranyan💚**"
   ]
  },
  {
   "cell_type": "markdown",
   "metadata": {
    "id": "razJiPJDOnLD"
   },
   "source": [
    "## **Task**\n",
    "\n",
    "**Calculate**\n",
    "- number of sessions\n",
    "- number of events per session\n",
    "- number of sessions that has orders\n",
    "- number of unique products that was ordered\n",
    "\n",
    "- number of orders per day-hour\n",
    "- distribution of orders per hour\n",
    "- click to order ratio per session\n",
    "- distribution of session duration"
   ]
  },
  {
   "cell_type": "code",
   "execution_count": 122,
   "metadata": {
    "id": "yuWuC2iWFJ2Y"
   },
   "outputs": [],
   "source": [
    "from pyspark.sql import SparkSession\n",
    "from pyspark.sql.functions import *\n",
    "from pyspark.sql.window import Window\n",
    "from pyspark.sql import functions as F\n"
   ]
  },
  {
   "cell_type": "code",
   "execution_count": 123,
   "metadata": {
    "colab": {
     "base_uri": "https://localhost:8080/"
    },
    "id": "qrJYAD3oFhNs",
    "outputId": "4487cd8e-6788-435d-942a-1dcde001ffa1"
   },
   "outputs": [
    {
     "name": "stdout",
     "output_type": "stream",
     "text": [
      "+-------+-------------+------+-------+\n",
      "|    aid|           ts|  type|session|\n",
      "+-------+-------------+------+-------+\n",
      "|1517085|1659304800025|clicks|      0|\n",
      "|1563459|1659304904511|clicks|      0|\n",
      "|1309446|1659367439426|clicks|      0|\n",
      "|  16246|1659367719997|clicks|      0|\n",
      "|1781822|1659367871344|clicks|      0|\n",
      "|1152674|1659367885796|clicks|      0|\n",
      "|1649869|1659369893840| carts|      0|\n",
      "| 461689|1659369898050| carts|      0|\n",
      "| 305831|1659370027105|orders|      0|\n",
      "| 461689|1659370027105|orders|      0|\n",
      "+-------+-------------+------+-------+\n",
      "only showing top 10 rows\n",
      "\n"
     ]
    }
   ],
   "source": [
    "# Create a SparkSession\n",
    "spark = SparkSession.builder.appName(\"BigDataHW\").getOrCreate()\n",
    "\n",
    "# Load the data\n",
    "df = spark.read.csv(\"train_1000.csv\", header=True, inferSchema=True)\n",
    "\n",
    "df.show(10)"
   ]
  },
  {
   "cell_type": "markdown",
   "metadata": {
    "id": "Z1qA8hFbO-pH"
   },
   "source": [
    "## Number of sessions"
   ]
  },
  {
   "cell_type": "code",
   "execution_count": 124,
   "metadata": {
    "colab": {
     "base_uri": "https://localhost:8080/"
    },
    "id": "0oGcHdGPNLu8",
    "outputId": "9c001205-9bab-47cd-d916-f9ea06f86b18"
   },
   "outputs": [
    {
     "name": "stdout",
     "output_type": "stream",
     "text": [
      "Number of unique sessions: 1000\n"
     ]
    }
   ],
   "source": [
    "# counting the number of unique sessions\n",
    "num_sessions = df.select(\"session\").distinct().count()\n",
    "\n",
    "print(\"Number of unique sessions:\", num_sessions)"
   ]
  },
  {
   "cell_type": "markdown",
   "metadata": {
    "id": "-9P8p6XdPIcQ"
   },
   "source": [
    "## Number of events per session"
   ]
  },
  {
   "cell_type": "code",
   "execution_count": 125,
   "metadata": {
    "colab": {
     "base_uri": "https://localhost:8080/"
    },
    "id": "kvIWdkb7HgLQ",
    "outputId": "4997f3ea-a230-4b8b-c444-e4d5dc3d586c"
   },
   "outputs": [
    {
     "name": "stdout",
     "output_type": "stream",
     "text": [
      "+-------+-------------+\n",
      "|session|session_count|\n",
      "+-------+-------------+\n",
      "|    148|          217|\n",
      "|    463|            5|\n",
      "|    471|            7|\n",
      "|    496|          120|\n",
      "|    833|           32|\n",
      "|    243|           67|\n",
      "|    392|           12|\n",
      "|    540|           45|\n",
      "|    623|            2|\n",
      "|    737|            4|\n",
      "+-------+-------------+\n",
      "only showing top 10 rows\n",
      "\n"
     ]
    }
   ],
   "source": [
    "# groupby the 'session' column\n",
    "num_sessions = df.groupby(\"session\").agg(F.count(\"*\").alias(\"session_count\"))\n",
    "# display the result\n",
    "num_sessions.show(10)"
   ]
  },
  {
   "cell_type": "markdown",
   "metadata": {
    "id": "SbA72jI8Pcjo"
   },
   "source": [
    "## Number of sessions that has orders"
   ]
  },
  {
   "cell_type": "code",
   "execution_count": 126,
   "metadata": {
    "colab": {
     "base_uri": "https://localhost:8080/"
    },
    "id": "Lil3zP6oLq-N",
    "outputId": "dc02bb8d-f483-4377-c1c6-23e136a7d183"
   },
   "outputs": [
    {
     "name": "stdout",
     "output_type": "stream",
     "text": [
      "Number of sessions that has orders: 350\n"
     ]
    }
   ],
   "source": [
    "# filtering the dataset to include only rows where the \"type\"  is \"orders\"\n",
    "orders_df = df.filter(df[\"type\"] == \"orders\")\n",
    "\n",
    "# counting the number of unique sessions in orders_df\n",
    "ord_sessions = orders_df.select(\"session\").distinct().count()\n",
    "\n",
    "print(\"Number of sessions that has orders:\", ord_sessions)"
   ]
  },
  {
   "cell_type": "markdown",
   "metadata": {
    "id": "4y51ik4RSCyH"
   },
   "source": [
    "## Number of unique products that was ordered"
   ]
  },
  {
   "cell_type": "markdown",
   "metadata": {
    "id": "a6LBvtuKTRgZ"
   },
   "source": [
    "We already have **orders_df** dataset which includers only rows where the \"type\" column is \"orders\".\n",
    "So we only need to get the distinct product IDs and counting the number of unique IDs."
   ]
  },
  {
   "cell_type": "code",
   "execution_count": 127,
   "metadata": {
    "colab": {
     "base_uri": "https://localhost:8080/"
    },
    "id": "Er0GPM9TFyf3",
    "outputId": "2877f752-dbda-4cb7-f96f-5b865b8e78f8"
   },
   "outputs": [
    {
     "name": "stdout",
     "output_type": "stream",
     "text": [
      "Number of unique products that were ordered: 1608\n"
     ]
    }
   ],
   "source": [
    "# getting the count of unique IDs in orders_df dataset\n",
    "num_distinct_products = orders_df.select(\"aid\").distinct().count()\n",
    "\n",
    "print(\"Number of unique products that were ordered:\", num_distinct_products)"
   ]
  },
  {
   "cell_type": "markdown",
   "metadata": {
    "id": "dUBsXqWjTiG2"
   },
   "source": [
    "## Number of orders per day-hour"
   ]
  },
  {
   "cell_type": "markdown",
   "metadata": {
    "id": "3ou290DFUUy1"
   },
   "source": [
    "We can calculate the number of orders per day-hour by:\n",
    "*  first extracting the day and hour from the timestamp column,\n",
    "* grouping the dataset by day and hour,\n",
    "* and then counting the number of orders in each group.\n",
    "\n"
   ]
  },
  {
   "cell_type": "code",
   "execution_count": 128,
   "metadata": {
    "id": "T4c1-4Y9T7jN"
   },
   "outputs": [],
   "source": [
    "# extracting the day and hour from the ts column\n",
    "ord_df = orders_df.withColumn(\"day\", F.dayofmonth(F.from_unixtime(F.col(\"ts\")/1000)))\n",
    "ord_df = ord_df.withColumn(\"hour\", F.hour(F.from_unixtime(F.col(\"ts\")/1000)))"
   ]
  },
  {
   "cell_type": "code",
   "execution_count": 129,
   "metadata": {
    "id": "2JUq3qqMT-Mn"
   },
   "outputs": [],
   "source": [
    "# groupping the dataset above by day and hour and counting the number of orders for this each group\n",
    "orders_per_day_hour = ord_df.groupBy(\"day\",\"hour\").agg(F.count(\"*\").alias(\"num_orders\"))"
   ]
  },
  {
   "cell_type": "code",
   "execution_count": 130,
   "metadata": {
    "colab": {
     "base_uri": "https://localhost:8080/"
    },
    "id": "dZbccH-jTK0N",
    "outputId": "49d5a4a4-d2f9-4faa-d6d9-d190d13bab6f"
   },
   "outputs": [
    {
     "name": "stdout",
     "output_type": "stream",
     "text": [
      "+---+----+----------+\n",
      "|day|hour|num_orders|\n",
      "+---+----+----------+\n",
      "|  1|   8|        14|\n",
      "|  1|  15|         5|\n",
      "|  1|  16|        15|\n",
      "|  1|   0|        21|\n",
      "|  1|  19|        16|\n",
      "|  1|  20|        21|\n",
      "|  1|  23|         1|\n",
      "|  1|  22|        27|\n",
      "|  1|  18|        20|\n",
      "|  1|  11|        19|\n",
      "+---+----+----------+\n",
      "only showing top 10 rows\n",
      "\n"
     ]
    }
   ],
   "source": [
    "# showing the result\n",
    "orders_per_day_hour.sort(\"day\").show(10)"
   ]
  },
  {
   "cell_type": "markdown",
   "metadata": {
    "id": "4Q_89RQ3VHTY"
   },
   "source": [
    "## Distribution of orders per hour"
   ]
  },
  {
   "cell_type": "markdown",
   "metadata": {
    "id": "LKtonFQPZeZt"
   },
   "source": [
    "To find the distribution of **orders per hour** we are going to:\n",
    "* convert the ts column from bigint to timestamp in orders_df\n",
    "* use the hour function to extract the hour from the timestamp column in orders_df\n",
    "* group the data frame by the extracted hour and use the count function to count the number of orders for each hour."
   ]
  },
  {
   "cell_type": "code",
   "execution_count": 131,
   "metadata": {
    "colab": {
     "base_uri": "https://localhost:8080/"
    },
    "id": "a6MOr6GdUG8l",
    "outputId": "89a41900-a9d8-4e47-a774-7782f7286af7"
   },
   "outputs": [
    {
     "name": "stdout",
     "output_type": "stream",
     "text": [
      "+----+----------+\n",
      "|hour|num_orders|\n",
      "+----+----------+\n",
      "|   0|        45|\n",
      "|   1|        10|\n",
      "|   2|        10|\n",
      "|   3|         2|\n",
      "|   4|        25|\n",
      "|   5|        24|\n",
      "|   6|        33|\n",
      "|   7|        54|\n",
      "|   8|        58|\n",
      "|   9|        72|\n",
      "|  10|        99|\n",
      "|  11|        79|\n",
      "|  12|        66|\n",
      "|  13|        63|\n",
      "|  14|        39|\n",
      "|  15|        48|\n",
      "|  16|        79|\n",
      "|  17|        74|\n",
      "|  18|        84|\n",
      "|  19|       114|\n",
      "+----+----------+\n",
      "only showing top 20 rows\n",
      "\n"
     ]
    }
   ],
   "source": [
    "# Converting the ts column from bigint to timestamp\n",
    "dist_ord = orders_df.withColumn(\"ts\", from_unixtime(orders_df[\"ts\"]/1000).cast(\"timestamp\"))\n",
    "\n",
    "# Extracting the hour from the timestamp column\n",
    "dist_ord = dist_ord.withColumn(\"hour\", hour(dist_ord[\"ts\"]))\n",
    "\n",
    "# Groupping the data by the hour \n",
    "dist_ord = dist_ord.groupBy(\"hour\").agg(count(\"*\").alias(\"num_orders\"))\n",
    "\n",
    "# Showing the sorted result\n",
    "dist_ord.sort('hour').show()\n"
   ]
  },
  {
   "cell_type": "markdown",
   "metadata": {
    "id": "OtuD1ksua6GR"
   },
   "source": [
    " ## Click to order ratio per session"
   ]
  },
  {
   "cell_type": "markdown",
   "metadata": {
    "id": "w1u1F1OJc6yd"
   },
   "source": [
    "To calculate the click to order ratio per session we are going to:\n",
    "* create a new data frame that **groups** the events by the **session** and **type**.\n",
    "* calculate the number of clicks and orders per session\n",
    "* divide the number of clicks by the number of orders to get the click to order ratio. "
   ]
  },
  {
   "cell_type": "code",
   "execution_count": 132,
   "metadata": {
    "id": "c5ibag_RbBc2"
   },
   "outputs": [],
   "source": [
    "# Creating a data frame that groups the events by the session and type\n",
    "sess_type_df = df.groupBy(\"session\", \"type\").agg(F.count(\"*\").alias(\"num_events\"))\n",
    "\n",
    "# Creating a data frame that contains the number of clicks and orders per session\n",
    "sess_cl_ord_df = sess_type_df.filter(\"type in ('clicks', 'orders')\").groupBy(\"session\").pivot(\"type\").sum(\"num_events\")\n",
    "\n",
    "# Createinga new column that calculates the click to order ratio per session\n",
    "sess_cl_ord_df = sess_cl_ord_df.withColumn(\"click_to_order_ratio\", col(\"clicks\")/col(\"orders\"))\n"
   ]
  },
  {
   "cell_type": "markdown",
   "metadata": {
    "id": "wFKDpWrae-lf"
   },
   "source": [
    "If the session doesn't containing click or order then in the data set below click_to_order_ratio will be null."
   ]
  },
  {
   "cell_type": "code",
   "execution_count": 133,
   "metadata": {
    "colab": {
     "base_uri": "https://localhost:8080/"
    },
    "id": "hJJj3BtNf05d",
    "outputId": "c6dc3796-717d-4687-ddb1-576ce1bd3c9b"
   },
   "outputs": [
    {
     "name": "stdout",
     "output_type": "stream",
     "text": [
      "+-------+------+------+--------------------+\n",
      "|session|clicks|orders|click_to_order_ratio|\n",
      "+-------+------+------+--------------------+\n",
      "|    148|   185|     8|              23.125|\n",
      "|    463|     2|     2|                 1.0|\n",
      "|    833|    26|     2|                13.0|\n",
      "|    496|   117|  null|                null|\n",
      "|    471|     7|  null|                null|\n",
      "+-------+------+------+--------------------+\n",
      "only showing top 5 rows\n",
      "\n"
     ]
    }
   ],
   "source": [
    "sess_cl_ord_df.show(5)"
   ]
  },
  {
   "cell_type": "code",
   "execution_count": 134,
   "metadata": {
    "colab": {
     "base_uri": "https://localhost:8080/"
    },
    "id": "rlIaV4dkcfSs",
    "outputId": "1720036b-86fc-4c72-8401-84331cccb7fc"
   },
   "outputs": [
    {
     "name": "stdout",
     "output_type": "stream",
     "text": [
      "+-------+------+------+--------------------+\n",
      "|session|clicks|orders|click_to_order_ratio|\n",
      "+-------+------+------+--------------------+\n",
      "|    606|   422|     1|               422.0|\n",
      "|    725|   377|     1|               377.0|\n",
      "|     94|   319|     1|               319.0|\n",
      "|    580|   308|     1|               308.0|\n",
      "|     48|   296|     1|               296.0|\n",
      "|    607|   277|     1|               277.0|\n",
      "|    311|   271|     1|               271.0|\n",
      "|    965|   243|     1|               243.0|\n",
      "|    203|   227|     1|               227.0|\n",
      "|    388|   223|     1|               223.0|\n",
      "+-------+------+------+--------------------+\n",
      "only showing top 10 rows\n",
      "\n"
     ]
    }
   ],
   "source": [
    "# sess_cl_ord_df sorted by click_to_order_ratio column(in descending order)\n",
    "sess_cl_ord_df.sort('click_to_order_ratio',ascending=False).show(10)"
   ]
  },
  {
   "cell_type": "markdown",
   "metadata": {
    "id": "dw21H9EAgO7P"
   },
   "source": [
    "## Distribution of session duration"
   ]
  },
  {
   "cell_type": "markdown",
   "metadata": {
    "id": "wRBHk74gjVt4"
   },
   "source": [
    "To calculate the distribution of session duration we are going to:\n",
    "* convert the ts column type to timestamp in df\n",
    "* calculate the duration of each session:create start time and end time columns using the session min and max ts-s and take the difference of this 2 as duration of the session.\n",
    "* present a session numbers for per duration "
   ]
  },
  {
   "cell_type": "code",
   "execution_count": 135,
   "metadata": {
    "colab": {
     "base_uri": "https://localhost:8080/"
    },
    "id": "EeRwDowUggUN",
    "outputId": "e222336f-4e55-4de8-ca68-c68c567178dc"
   },
   "outputs": [
    {
     "name": "stdout",
     "output_type": "stream",
     "text": [
      "+--------+------------+\n",
      "|duration|num_sessions|\n",
      "+--------+------------+\n",
      "|       2|           1|\n",
      "|      10|           1|\n",
      "|      13|           1|\n",
      "|      17|           2|\n",
      "|      21|           1|\n",
      "|      22|           1|\n",
      "|      23|           2|\n",
      "|      25|           1|\n",
      "|      26|           1|\n",
      "|      27|           1|\n",
      "+--------+------------+\n",
      "only showing top 10 rows\n",
      "\n"
     ]
    }
   ],
   "source": [
    "# Converting the ts column from bigint to timestamp\n",
    "df = df.withColumn(\"ts\", from_unixtime(df[\"ts\"]/1000).cast(\"timestamp\"))\n",
    "\n",
    "# Getting the minimum and maximum timestamp per session(start_time,end_time)\n",
    "sess_ts_df = df.groupBy(\"session\").agg(F.min(\"ts\").alias(\"start_time\"), F.max(\"ts\").alias(\"end_time\"))\n",
    "\n",
    "# Calculate the duration of each session in seconds\n",
    "sess_ts_df = sess_ts_df.withColumn(\"duration\", F.unix_timestamp(\"end_time\") - F.unix_timestamp(\"start_time\"))\n",
    "\n",
    "# Groupping the sessions by duration\n",
    "sess_duration_df = sess_ts_df.groupBy(\"duration\").agg(F.count(\"*\").alias(\"num_sessions\"))\n",
    "\n",
    "# Sort the sessions by duration\n",
    "sess_duration_df = sess_duration_df.sort(\"duration\")\n",
    "\n",
    "# Show the distribution of session duration\n",
    "sess_duration_df.show(10)\n",
    "\n"
   ]
  },
  {
   "cell_type": "markdown",
   "metadata": {
    "id": "KsuB-X1dklJl"
   },
   "source": [
    "**The End!\n",
    "<br>\n",
    "Thank You for the interesting Assignment!!!**"
   ]
  },
  {
   "cell_type": "code",
   "execution_count": 135,
   "metadata": {
    "id": "TU7TnIiwxkMS"
   },
   "outputs": [],
   "source": []
  }
 ],
 "metadata": {
  "colab": {
   "provenance": []
  },
  "kernelspec": {
   "display_name": "Python 3 (ipykernel)",
   "language": "python",
   "name": "python3"
  },
  "language_info": {
   "codemirror_mode": {
    "name": "ipython",
    "version": 3
   },
   "file_extension": ".py",
   "mimetype": "text/x-python",
   "name": "python",
   "nbconvert_exporter": "python",
   "pygments_lexer": "ipython3",
   "version": "3.9.13"
  }
 },
 "nbformat": 4,
 "nbformat_minor": 1
}
